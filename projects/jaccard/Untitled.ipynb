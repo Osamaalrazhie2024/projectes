{
 "cells": [
  {
   "cell_type": "code",
   "execution_count": 1,
   "id": "45a1691f",
   "metadata": {},
   "outputs": [
    {
     "name": "stdout",
     "output_type": "stream",
     "text": [
      "Jaccard Similarity Score: 0.3888888888888889\n"
     ]
    }
   ],
   "source": [
    "# Using Jaccard Similarity to Compare Two Sentences\n",
    "def jaccard_similarity(text1, text2):\n",
    "    words_text1 = set(text1.lower().split())\n",
    "    words_text2 = set(text2.lower().split())\n",
    "    \n",
    "    intersection = len(words_text1.intersection(words_text2))\n",
    "    union = len(words_text1.union(words_text2))\n",
    "    \n",
    "    return intersection / union\n",
    "\n",
    "document1 = \"Datagy is a website for you to learn Python programming and data science.\"\n",
    "document2 = \"You can learn data science and Python programming at the Datagy website.\"\n",
    "\n",
    "similarity_score = jaccard_similarity(document1, document2)\n",
    "print(f\"Jaccard Similarity Score: {similarity_score}\")"
   ]
  },
  {
   "cell_type": "code",
   "execution_count": null,
   "id": "463685af",
   "metadata": {},
   "outputs": [],
   "source": []
  }
 ],
 "metadata": {
  "kernelspec": {
   "display_name": "Python 3 (ipykernel)",
   "language": "python",
   "name": "python3"
  },
  "language_info": {
   "codemirror_mode": {
    "name": "ipython",
    "version": 3
   },
   "file_extension": ".py",
   "mimetype": "text/x-python",
   "name": "python",
   "nbconvert_exporter": "python",
   "pygments_lexer": "ipython3",
   "version": "3.9.13"
  }
 },
 "nbformat": 4,
 "nbformat_minor": 5
}
